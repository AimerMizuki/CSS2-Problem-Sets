{
  "nbformat": 4,
  "nbformat_minor": 0,
  "metadata": {
    "colab": {
      "name": "Problem_set_8_Siyuan_Liu.ipynb",
      "provenance": []
    },
    "kernelspec": {
      "name": "python3",
      "display_name": "Python 3"
    },
    "language_info": {
      "name": "python"
    }
  },
  "cells": [
    {
      "cell_type": "markdown",
      "metadata": {
        "id": "hm1U-y_n-XS3"
      },
      "source": [
        "Part 1: Import all necessory libraries"
      ]
    },
    {
      "cell_type": "code",
      "metadata": {
        "id": "UnWr6StGPXVO"
      },
      "source": [
        "import seaborn as sns\n",
        "import matplotlib.pyplot as plt\n",
        "import numpy as np\n",
        "import pandas as pd\n",
        "from sklearn import tree\n",
        "from sklearn.model_selection import train_test_split\n",
        "from sklearn.linear_model import LogisticRegression\n",
        "from sklearn import metrics"
      ],
      "execution_count": 82,
      "outputs": []
    },
    {
      "cell_type": "markdown",
      "metadata": {
        "id": "j7ccgJvo-bos"
      },
      "source": [
        "Part 2: create a function that identify the best predictor(will return training socre and testing score)"
      ]
    },
    {
      "cell_type": "code",
      "metadata": {
        "id": "vHfUtZUXR6Eb"
      },
      "source": [
        "def bestPredictor(xvalue,yvalue,depth):\n",
        "\n",
        "  #if xvalue =sex, we need to dummy code it\n",
        "  if xvalue == \"sex\":\n",
        "    data = pd.get_dummies(df['sex'],drop_first=True)\n",
        "    x= np.array(data[\"male\"])\n",
        "    y= np.array(df[yvalue])\n",
        "  \n",
        "  #if not, just change it to array\n",
        "  else:\n",
        "    #Change x and y to array\n",
        "    x= np.array(df[xvalue])\n",
        "    y= np.array(df[yvalue])\n",
        "\n",
        "\n",
        "  #Reshape X\n",
        "  X= x.reshape(len(x),1)\n",
        "\n",
        "  #split train and test dataset\n",
        "  Xtrain, Xtest, ytrain, ytest = train_test_split(X,y,random_state=1)\n",
        "\n",
        "  #Fit Xtrain and ytrain into tree model\n",
        "  tree_model = tree.DecisionTreeClassifier(max_depth= depth) \n",
        "  tree_model = tree_model.fit(Xtrain, ytrain)\n",
        "\n",
        "  #get the scores for training and testing\n",
        "  training_score = tree_model.score(Xtrain, ytrain)\n",
        "  testing_score = tree_model.score(Xtest, ytest)\n",
        "\n",
        "  #get y predicted, use it to get values to plot roc curve\n",
        "  y_predicted = tree_model.predict_proba(Xtest)[:,1]\n",
        "  fpr,tpr,thresholds = metrics.roc_curve(ytest,y_predicted)\n",
        "  \n",
        "  #create axes for subplot\n",
        "  f,axes = plt.subplots(1,2, figsize=[10,7])\n",
        "  \n",
        "\n",
        "  print('Do you want a figures?Please only answer with \"yes\" or \"no\" ')\n",
        "  answer = input()\n",
        "  \n",
        "  \n",
        "  #If we don't need a figure, just print training and testing score\n",
        "  if answer == \"no\":\n",
        "    print('training_score = ',training_score)\n",
        "    print('testing_score = ',testing_score) \n",
        "  \n",
        "  #Else, we print the figures+training and testing score\n",
        "  else:\n",
        "    #create a boxplot with X and y\n",
        "    sns.boxplot(y,x,ax=axes[0])\n",
        "    #create a roc plot\n",
        "    axes[1].plot(fpr,tpr,marker='o')\n",
        "    axes[1].plot([0,1],[0,1])\n",
        "    print('training_score = ',training_score)\n",
        "  print('testing_score = ',testing_score)"
      ],
      "execution_count": 83,
      "outputs": []
    },
    {
      "cell_type": "markdown",
      "metadata": {
        "id": "lxPf_yUMBW-n"
      },
      "source": [
        "Not part of problem set requirement:\n",
        "\n",
        "I create this extra function to test the best decision tree max-depth value that isn’t overfitting.It's simple just a copy of part 2 function without input and subplot.\n",
        "\n",
        "The function in part 2 should fullfill all requirement!\n"
      ]
    },
    {
      "cell_type": "code",
      "metadata": {
        "id": "g0Jjl3gkhx7v"
      },
      "source": [
        "def testing(xvalue,yvalue,depth):\n",
        "  if xvalue == \"sex\":\n",
        "    data = pd.get_dummies(df['sex'],drop_first=True)\n",
        "    x= np.array(data[\"male\"])\n",
        "    y= np.array(df[yvalue])\n",
        "    \n",
        "  else:\n",
        "    #Change x and y to array\n",
        "    x= np.array(df[xvalue])\n",
        "    y= np.array(df[yvalue])\n",
        "\n",
        "\n",
        "  #Reshape X\n",
        "  X= x.reshape(len(x),1)\n",
        "\n",
        "  #split train and test dataset\n",
        "  Xtrain, Xtest, ytrain, ytest = train_test_split(X,y,random_state=1)\n",
        "\n",
        "  #Fit Xtrain and ytrain into tree model\n",
        "  tree_model = tree.DecisionTreeClassifier(max_depth= depth) \n",
        "  tree_model = tree_model.fit(Xtrain, ytrain)\n",
        "\n",
        "  #get the scores for training and testing\n",
        "  training_score = tree_model.score(Xtrain, ytrain)\n",
        "  testing_score = tree_model.score(Xtest, ytest)\n",
        "\n",
        "  #get y predicted, use it to get values to plot roc curve\n",
        "  y_predicted = tree_model.predict_proba(Xtest)[:,1]\n",
        "  fpr,tpr,thresholds = metrics.roc_curve(ytest,y_predicted)\n",
        "  \n",
        "  \n",
        "\n",
        "  print('training_score = ',training_score)\n",
        "  print('testing_score = ',testing_score)\n",
        "\n"
      ],
      "execution_count": 84,
      "outputs": []
    },
    {
      "cell_type": "markdown",
      "metadata": {
        "id": "GyqRKJtr_sfO"
      },
      "source": [
        "Part 3: Load dataset Titanic"
      ]
    },
    {
      "cell_type": "code",
      "metadata": {
        "id": "ZmlvdCSFSvZw"
      },
      "source": [
        "df = sns.load_dataset('titanic')\n",
        "#drop na for age = NAs\n",
        "df = df.dropna(subset=['age'])\n",
        "\n"
      ],
      "execution_count": 85,
      "outputs": []
    },
    {
      "cell_type": "markdown",
      "metadata": {
        "id": "_HYxjkLG_yRh"
      },
      "source": [
        "Part 4: Use the function with **fare** as a predictor of survived."
      ]
    },
    {
      "cell_type": "code",
      "metadata": {
        "colab": {
          "base_uri": "https://localhost:8080/",
          "height": 1000
        },
        "id": "kf_lCF77U1zv",
        "outputId": "6a02cadb-d895-45f8-e5ec-052cde579344"
      },
      "source": [
        "#get fare, pclass and survived\n",
        "fare = df.columns[6]\n",
        "pclass = df.columns[1]\n",
        "survived = df.columns[0]\n",
        "\n",
        "#Use test method to test wich max-depth is the best and not overfitting\n",
        "for i in range(1,15):\n",
        "  print(testing(fare,survived, i))\n",
        "\n",
        "#By looking at possoble max_depth from 1 to 29, the cusp of overfitting is \n",
        "#When Max_Depth =9 for fare\n",
        "\n",
        "\n",
        "#print best score for fare as a predictor\n",
        "print(\"Best Score for fare as a predictor:\")\n",
        "print(bestPredictor(fare,survived, 9))\n",
        "\n",
        "\n",
        "\n",
        "\n"
      ],
      "execution_count": 86,
      "outputs": [
        {
          "output_type": "stream",
          "text": [
            "training_score =  0.6205607476635514\n",
            "testing_score =  0.6145251396648045\n",
            "None\n",
            "training_score =  0.6672897196261682\n",
            "testing_score =  0.7039106145251397\n",
            "None\n",
            "training_score =  0.6766355140186916\n",
            "testing_score =  0.7094972067039106\n",
            "None\n",
            "training_score =  0.685981308411215\n",
            "testing_score =  0.7094972067039106\n",
            "None\n",
            "training_score =  0.7140186915887851\n",
            "testing_score =  0.6759776536312849\n",
            "None\n",
            "training_score =  0.7271028037383177\n",
            "testing_score =  0.6759776536312849\n",
            "None\n",
            "training_score =  0.7514018691588785\n",
            "testing_score =  0.7094972067039106\n",
            "None\n",
            "training_score =  0.7607476635514019\n",
            "testing_score =  0.7150837988826816\n",
            "None\n",
            "training_score =  0.77196261682243\n",
            "testing_score =  0.6983240223463687\n",
            "None\n",
            "training_score =  0.7757009345794392\n",
            "testing_score =  0.7039106145251397\n",
            "None\n",
            "training_score =  0.7850467289719626\n",
            "testing_score =  0.6983240223463687\n",
            "None\n",
            "training_score =  0.7962616822429907\n",
            "testing_score =  0.7039106145251397\n",
            "None\n",
            "training_score =  0.7981308411214953\n",
            "testing_score =  0.7094972067039106\n",
            "None\n",
            "training_score =  0.8\n",
            "testing_score =  0.6927374301675978\n",
            "None\n",
            "Best Score for fare as a predictor:\n",
            "Do you want a figures?Please only answer with \"yes\" or \"no\" \n",
            "yes\n"
          ],
          "name": "stdout"
        },
        {
          "output_type": "stream",
          "text": [
            "/usr/local/lib/python3.7/dist-packages/seaborn/_decorators.py:43: FutureWarning: Pass the following variables as keyword args: x, y. From version 0.12, the only valid positional argument will be `data`, and passing other arguments without an explicit keyword will result in an error or misinterpretation.\n",
            "  FutureWarning\n"
          ],
          "name": "stderr"
        },
        {
          "output_type": "stream",
          "text": [
            "training_score =  0.77196261682243\n",
            "testing_score =  0.6983240223463687\n",
            "None\n"
          ],
          "name": "stdout"
        },
        {
          "output_type": "display_data",
          "data": {
            "image/png": "[encoded data removed]",
            "text/plain": [
              "<Figure size 720x504 with 2 Axes>"
            ]
          },
          "metadata": {
            "tags": [],
            "needs_background": "light"
          }
        }
      ]
    },
    {
      "cell_type": "markdown",
      "metadata": {
        "id": "ZlVs9PYxBMnF"
      },
      "source": [
        "Part 5: Use the function with **pclass** as a predictor of survived."
      ]
    },
    {
      "cell_type": "code",
      "metadata": {
        "colab": {
          "base_uri": "https://localhost:8080/",
          "height": 1000
        },
        "id": "1a5Y27CLZBwK",
        "outputId": "57bd1575-cb51-46f8-b1f3-3a3ea07ed8b4"
      },
      "source": [
        "#Use test method to test wich max-depth is the best and not overfitting\n",
        "for i in range(1,15):\n",
        " print(testing(pclass,survived, i))\n",
        "\n",
        "#By looking at possoble max_depth from 1 to 29, the cusp of overfitting is \n",
        "#When Max_Depth =2 for pclass\n",
        "\n",
        "#print best score for pclass as a predictor\n",
        "print(\"Best Score for pclass as a predictor:\")\n",
        "print(bestPredictor(pclass,survived, 2))"
      ],
      "execution_count": 87,
      "outputs": [
        {
          "output_type": "stream",
          "text": [
            "training_score =  0.6598130841121496\n",
            "testing_score =  0.6815642458100558\n",
            "None\n",
            "training_score =  0.6691588785046729\n",
            "testing_score =  0.6927374301675978\n",
            "None\n",
            "training_score =  0.6691588785046729\n",
            "testing_score =  0.6927374301675978\n",
            "None\n",
            "training_score =  0.6691588785046729\n",
            "testing_score =  0.6927374301675978\n",
            "None\n",
            "training_score =  0.6691588785046729\n",
            "testing_score =  0.6927374301675978\n",
            "None\n",
            "training_score =  0.6691588785046729\n",
            "testing_score =  0.6927374301675978\n",
            "None\n",
            "training_score =  0.6691588785046729\n",
            "testing_score =  0.6927374301675978\n",
            "None\n",
            "training_score =  0.6691588785046729\n",
            "testing_score =  0.6927374301675978\n",
            "None\n",
            "training_score =  0.6691588785046729\n",
            "testing_score =  0.6927374301675978\n",
            "None\n",
            "training_score =  0.6691588785046729\n",
            "testing_score =  0.6927374301675978\n",
            "None\n",
            "training_score =  0.6691588785046729\n",
            "testing_score =  0.6927374301675978\n",
            "None\n",
            "training_score =  0.6691588785046729\n",
            "testing_score =  0.6927374301675978\n",
            "None\n",
            "training_score =  0.6691588785046729\n",
            "testing_score =  0.6927374301675978\n",
            "None\n",
            "training_score =  0.6691588785046729\n",
            "testing_score =  0.6927374301675978\n",
            "None\n",
            "Best Score for pclass as a predictor:\n",
            "Do you want a figures?Please only answer with \"yes\" or \"no\" \n",
            "yes\n"
          ],
          "name": "stdout"
        },
        {
          "output_type": "stream",
          "text": [
            "/usr/local/lib/python3.7/dist-packages/seaborn/_decorators.py:43: FutureWarning: Pass the following variables as keyword args: x, y. From version 0.12, the only valid positional argument will be `data`, and passing other arguments without an explicit keyword will result in an error or misinterpretation.\n",
            "  FutureWarning\n"
          ],
          "name": "stderr"
        },
        {
          "output_type": "stream",
          "text": [
            "training_score =  0.6691588785046729\n",
            "testing_score =  0.6927374301675978\n",
            "None\n"
          ],
          "name": "stdout"
        },
        {
          "output_type": "display_data",
          "data": {
            "image/png": "[encoded data removed]",
            "text/plain": [
              "<Figure size 720x504 with 2 Axes>"
            ]
          },
          "metadata": {
            "tags": [],
            "needs_background": "light"
          }
        }
      ]
    },
    {
      "cell_type": "markdown",
      "metadata": {
        "id": "qmctcAyWH4ee"
      },
      "source": [
        "Bonus Part 6: Use the function with **sex** as a predictor of survived."
      ]
    },
    {
      "cell_type": "code",
      "metadata": {
        "colab": {
          "base_uri": "https://localhost:8080/",
          "height": 1000
        },
        "id": "KkAfN1HNCV9i",
        "outputId": "dfe06d9d-aa85-48a8-ebc8-d69cc8940e25"
      },
      "source": [
        "#get sex\n",
        "sex = df.columns[3]\n",
        "\n",
        "#Use test method to test wich max-depth is the best and not overfitting\n",
        "for i in range(1,15):\n",
        " print(testing(sex,survived, i))\n",
        "\n",
        "#By looking at possoble max_depth from 1 to 15, the cusp of overfitting is \n",
        "#When Max_Depth =1 for sex\n",
        "\n",
        "\n",
        "#print best score for fare as a predictor\n",
        "print(\"Best Score for fare as a predictor:\")\n",
        "print(bestPredictor(sex,survived, 1))"
      ],
      "execution_count": 88,
      "outputs": [
        {
          "output_type": "stream",
          "text": [
            "training_score =  0.6056074766355141\n",
            "testing_score =  0.664804469273743\n",
            "None\n",
            "training_score =  0.6056074766355141\n",
            "testing_score =  0.664804469273743\n",
            "None\n",
            "training_score =  0.6224299065420561\n",
            "testing_score =  0.6201117318435754\n",
            "None\n",
            "training_score =  0.6280373831775701\n",
            "testing_score =  0.6536312849162011\n",
            "None\n",
            "training_score =  0.6336448598130842\n",
            "testing_score =  0.6480446927374302\n",
            "None\n",
            "training_score =  0.6336448598130842\n",
            "testing_score =  0.6480446927374302\n",
            "None\n",
            "training_score =  0.6448598130841121\n",
            "testing_score =  0.6089385474860335\n",
            "None\n",
            "training_score =  0.6448598130841121\n",
            "testing_score =  0.6201117318435754\n",
            "None\n",
            "training_score =  0.6616822429906543\n",
            "testing_score =  0.6089385474860335\n",
            "None\n",
            "training_score =  0.6672897196261682\n",
            "testing_score =  0.6201117318435754\n",
            "None\n",
            "training_score =  0.6672897196261682\n",
            "testing_score =  0.6201117318435754\n",
            "None\n",
            "training_score =  0.6672897196261682\n",
            "testing_score =  0.6201117318435754\n",
            "None\n",
            "training_score =  0.6672897196261682\n",
            "testing_score =  0.6201117318435754\n",
            "None\n",
            "training_score =  0.6672897196261682\n",
            "testing_score =  0.6201117318435754\n",
            "None\n",
            "Best Score for fare as a predictor:\n",
            "Do you want a figures?Please only answer with \"yes\" or \"no\" \n",
            "yes\n"
          ],
          "name": "stdout"
        },
        {
          "output_type": "stream",
          "text": [
            "/usr/local/lib/python3.7/dist-packages/seaborn/_decorators.py:43: FutureWarning: Pass the following variables as keyword args: x, y. From version 0.12, the only valid positional argument will be `data`, and passing other arguments without an explicit keyword will result in an error or misinterpretation.\n",
            "  FutureWarning\n"
          ],
          "name": "stderr"
        },
        {
          "output_type": "stream",
          "text": [
            "training_score =  0.6056074766355141\n",
            "testing_score =  0.664804469273743\n",
            "None\n"
          ],
          "name": "stdout"
        },
        {
          "output_type": "display_data",
          "data": {
            "image/png": "[encoded data removed]",
            "text/plain": [
              "<Figure size 720x504 with 2 Axes>"
            ]
          },
          "metadata": {
            "tags": [],
            "needs_background": "light"
          }
        }
      ]
    },
    {
      "cell_type": "markdown",
      "metadata": {
        "id": "Cuta7dsfJD0h"
      },
      "source": [
        "Bonus Part 7: Use the function with **age** as a predictor of survived."
      ]
    },
    {
      "cell_type": "code",
      "metadata": {
        "colab": {
          "base_uri": "https://localhost:8080/",
          "height": 1000
        },
        "id": "n4Xl9RXbJCb4",
        "outputId": "101c2107-25b9-4ede-af07-f62bb0e7ce6d"
      },
      "source": [
        "#get age\n",
        "age = df.columns[3]\n",
        "\n",
        "#Use test method to test wich max-depth is the best and not overfitting\n",
        "for i in range(1,15):\n",
        " print(testing(age,survived, i))\n",
        "\n",
        "#By looking at possoble max_depth from 1 to 15, the cusp of overfitting is \n",
        "#When Max_Depth =`10 for age\n",
        "\n",
        "\n",
        "#print best score for fare as a predictor\n",
        "print(\"Best Score for age as a predictor:\")\n",
        "print(bestPredictor(age,survived, 10))"
      ],
      "execution_count": 90,
      "outputs": [
        {
          "output_type": "stream",
          "text": [
            "training_score =  0.6056074766355141\n",
            "testing_score =  0.664804469273743\n",
            "None\n",
            "training_score =  0.6056074766355141\n",
            "testing_score =  0.664804469273743\n",
            "None\n",
            "training_score =  0.6224299065420561\n",
            "testing_score =  0.6201117318435754\n",
            "None\n",
            "training_score =  0.6280373831775701\n",
            "testing_score =  0.6536312849162011\n",
            "None\n",
            "training_score =  0.6336448598130842\n",
            "testing_score =  0.6480446927374302\n",
            "None\n",
            "training_score =  0.6336448598130842\n",
            "testing_score =  0.6480446927374302\n",
            "None\n",
            "training_score =  0.6448598130841121\n",
            "testing_score =  0.6089385474860335\n",
            "None\n",
            "training_score =  0.6448598130841121\n",
            "testing_score =  0.6201117318435754\n",
            "None\n",
            "training_score =  0.6616822429906543\n",
            "testing_score =  0.6089385474860335\n",
            "None\n",
            "training_score =  0.6672897196261682\n",
            "testing_score =  0.6201117318435754\n",
            "None\n",
            "training_score =  0.6672897196261682\n",
            "testing_score =  0.6201117318435754\n",
            "None\n",
            "training_score =  0.6672897196261682\n",
            "testing_score =  0.6201117318435754\n",
            "None\n",
            "training_score =  0.6672897196261682\n",
            "testing_score =  0.6201117318435754\n",
            "None\n",
            "training_score =  0.6672897196261682\n",
            "testing_score =  0.6201117318435754\n",
            "None\n",
            "Best Score for age as a predictor:\n",
            "Do you want a figures?Please only answer with \"yes\" or \"no\" \n",
            "yes\n"
          ],
          "name": "stdout"
        },
        {
          "output_type": "stream",
          "text": [
            "/usr/local/lib/python3.7/dist-packages/seaborn/_decorators.py:43: FutureWarning: Pass the following variables as keyword args: x, y. From version 0.12, the only valid positional argument will be `data`, and passing other arguments without an explicit keyword will result in an error or misinterpretation.\n",
            "  FutureWarning\n"
          ],
          "name": "stderr"
        },
        {
          "output_type": "stream",
          "text": [
            "training_score =  0.6672897196261682\n",
            "testing_score =  0.6201117318435754\n",
            "None\n"
          ],
          "name": "stdout"
        },
        {
          "output_type": "display_data",
          "data": {
            "image/png": "[encoded data removed]",
            "text/plain": [
              "<Figure size 720x504 with 2 Axes>"
            ]
          },
          "metadata": {
            "tags": [],
            "needs_background": "light"
          }
        }
      ]
    },
    {
      "cell_type": "markdown",
      "metadata": {
        "id": "i3wFNlzlZAaG"
      },
      "source": [
        "**Conclution:**\n",
        "\n",
        "1.Fare is a better predictor for survival than pclass because at while the testing score of both predictor are the same(0.6681614349775785), Fare has a higher training score(0.7604790419161677) than pclass(0.6826347305389222)"
      ]
    }
  ]
}