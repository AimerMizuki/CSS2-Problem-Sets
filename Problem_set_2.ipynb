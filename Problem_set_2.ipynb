{
  "nbformat": 4,
  "nbformat_minor": 0,
  "metadata": {
    "colab": {
      "name": "Problem set 2 4/11.ipynb",
      "provenance": []
    },
    "kernelspec": {
      "name": "python3",
      "display_name": "Python 3"
    },
    "language_info": {
      "name": "python"
    }
  },
  "cells": [
    {
      "cell_type": "code",
      "metadata": {
        "colab": {
          "base_uri": "https://localhost:8080/",
          "height": 354
        },
        "id": "Rcy6bSVvxH4a",
        "outputId": "a23929b8-e968-4066-bd5c-c72a3bdb5a82"
      },
      "source": [
        "import numpy as np\n",
        "import pandas as pd\n",
        "import matplotlib.pyplot as plt\n",
        "import seaborn as sns\n",
        "df1"
      ],
      "execution_count": 5,
      "outputs": [
        {
          "output_type": "execute_result",
          "data": {
            "text/html": [
              "<div>\n",
              "<style scoped>\n",
              "    .dataframe tbody tr th:only-of-type {\n",
              "        vertical-align: middle;\n",
              "    }\n",
              "\n",
              "    .dataframe tbody tr th {\n",
              "        vertical-align: top;\n",
              "    }\n",
              "\n",
              "    .dataframe thead th {\n",
              "        text-align: right;\n",
              "    }\n",
              "</style>\n",
              "<table border=\"1\" class=\"dataframe\">\n",
              "  <thead>\n",
              "    <tr style=\"text-align: right;\">\n",
              "      <th></th>\n",
              "      <th>dataset</th>\n",
              "      <th>x</th>\n",
              "      <th>y</th>\n",
              "    </tr>\n",
              "  </thead>\n",
              "  <tbody>\n",
              "    <tr>\n",
              "      <th>0</th>\n",
              "      <td>I</td>\n",
              "      <td>10.0</td>\n",
              "      <td>8.04</td>\n",
              "    </tr>\n",
              "    <tr>\n",
              "      <th>1</th>\n",
              "      <td>I</td>\n",
              "      <td>8.0</td>\n",
              "      <td>6.95</td>\n",
              "    </tr>\n",
              "    <tr>\n",
              "      <th>2</th>\n",
              "      <td>I</td>\n",
              "      <td>13.0</td>\n",
              "      <td>7.58</td>\n",
              "    </tr>\n",
              "    <tr>\n",
              "      <th>3</th>\n",
              "      <td>I</td>\n",
              "      <td>9.0</td>\n",
              "      <td>8.81</td>\n",
              "    </tr>\n",
              "    <tr>\n",
              "      <th>4</th>\n",
              "      <td>I</td>\n",
              "      <td>11.0</td>\n",
              "      <td>8.33</td>\n",
              "    </tr>\n",
              "    <tr>\n",
              "      <th>5</th>\n",
              "      <td>I</td>\n",
              "      <td>14.0</td>\n",
              "      <td>9.96</td>\n",
              "    </tr>\n",
              "    <tr>\n",
              "      <th>6</th>\n",
              "      <td>I</td>\n",
              "      <td>6.0</td>\n",
              "      <td>7.24</td>\n",
              "    </tr>\n",
              "    <tr>\n",
              "      <th>7</th>\n",
              "      <td>I</td>\n",
              "      <td>4.0</td>\n",
              "      <td>4.26</td>\n",
              "    </tr>\n",
              "    <tr>\n",
              "      <th>8</th>\n",
              "      <td>I</td>\n",
              "      <td>12.0</td>\n",
              "      <td>10.84</td>\n",
              "    </tr>\n",
              "    <tr>\n",
              "      <th>9</th>\n",
              "      <td>I</td>\n",
              "      <td>7.0</td>\n",
              "      <td>4.82</td>\n",
              "    </tr>\n",
              "  </tbody>\n",
              "</table>\n",
              "</div>"
            ],
            "text/plain": [
              "  dataset     x      y\n",
              "0       I  10.0   8.04\n",
              "1       I   8.0   6.95\n",
              "2       I  13.0   7.58\n",
              "3       I   9.0   8.81\n",
              "4       I  11.0   8.33\n",
              "5       I  14.0   9.96\n",
              "6       I   6.0   7.24\n",
              "7       I   4.0   4.26\n",
              "8       I  12.0  10.84\n",
              "9       I   7.0   4.82"
            ]
          },
          "metadata": {
            "tags": []
          },
          "execution_count": 5
        }
      ]
    },
    {
      "cell_type": "markdown",
      "metadata": {
        "id": "1iolygM4zchL"
      },
      "source": [
        "sns.load_dataset('anscombe')"
      ]
    },
    {
      "cell_type": "code",
      "metadata": {
        "colab": {
          "base_uri": "https://localhost:8080/",
          "height": 315
        },
        "id": "6a2HXuQfzd2e",
        "outputId": "0b4d5afd-dd81-460c-8537-9a1b98c9f484"
      },
      "source": [
        "df = sns.load_dataset('anscombe')\n",
        "fig,axes = plt.subplots(nrows=2,ncols=2)\n",
        "axes[0,0].plot(df['x'].loc[0:10],df['y'].loc[0:10],linestyle='',marker='.')\n",
        "axes[0,1].plot(df['x'].loc[11:21],df['y'].loc[11:21],linestyle='',marker='.', color='g')\n",
        "axes[1,0].plot(df['x'].loc[22:32],df['y'].loc[22:32],linestyle='',marker='.', color='r')\n",
        "axes[1,1].plot(df['x'].loc[33:43],df['y'].loc[33:43],linestyle='',marker='.',color='y')\n",
        "for i in np.arange(0,2): \n",
        "  for j in np.arange(0,2):\n",
        "    if j == 0 and i == 0:\n",
        "     axes[i,j].set_xlabel('X1')\n",
        "     axes[i,j].set_ylabel('Y1')\n",
        "     axes[i,j].set_title(\"Anscombe's quartet dataset #1\")\n",
        "     axes[i,j].text(3,3, \"mean y={} sd y= {}\".format(round(np.mean(df['y'].loc[0:10]),2),round(np.std(df['y'].loc[0:10])),2), fontsize=8)\n",
        "     axes[i,j].text(3,1, \"mean y={} sd y= {}\".format(round(np.mean(df['x'].loc[0:10]),2),round(np.std(df['x'].loc[0:10])),2), fontsize=8)\n",
        "    elif j == 1 and i == 0:\n",
        "      axes[i,j].set_xlabel('X2')\n",
        "      axes[i,j].set_ylabel('Y2')\n",
        "      axes[i,j].set_title(\"Anscombe's quartet dataset #2\")\n",
        "      axes[i,j].text(3,3, \"mean y={} sd y= {}\".format(round(np.mean(df['y'].loc[11:21]),2),round(np.std(df['y'].loc[11:21])),2), fontsize=8)\n",
        "      axes[i,j].text(3,1, \"mean y={} sd y= {}\".format(round(np.mean(df['x'].loc[11:21]),2),round(np.std(df['x'].loc[11:21])),2), fontsize=8)\n",
        "    elif j == 0 and i == 1:\n",
        "      axes[i,j].set_xlabel('X3')\n",
        "      axes[i,j].set_ylabel('Y3')\n",
        "      axes[i,j].set_title(\"Anscombe's quartet dataset #3\")\n",
        "      axes[i,j].text(3,3, \"mean y={} sd y= {}\".format(round(np.mean(df['y'].loc[22:32]),2),round(np.std(df['y'].loc[22:32])),2), fontsize=8)\n",
        "      axes[i,j].text(3,1, \"mean y={} sd y= {}\".format(round(np.mean(df['x'].loc[22:32]),2),round(np.std(df['x'].loc[22:32])),2), fontsize=8)\n",
        "    elif j == 1 and i == 1:\n",
        "      axes[i,j].set_xlabel('X4')\n",
        "      axes[i,j].set_ylabel('Y4')\n",
        "      axes[i,j].set_title(\"Anscombe's quartet dataset #4\")\n",
        "      axes[i,j].text(3,3, \"mean y={} sd y= {}\".format(round(np.mean(df['y'].loc[33:43]),2),round(np.std(df['y'].loc[33:43])),2), fontsize=8)\n",
        "      axes[i,j].text(3,1, \"mean x={} sd x= {}\".format(round(np.mean(df['x'].loc[33:43]),2),round(np.std(df['x'].loc[33:43])),2), fontsize=8)\n",
        "\n",
        "    axes[i,j].set_xlim([0,15])\n",
        "    axes[i,j].set_ylim([0,15])\n",
        "\n",
        "plt.tight_layout()\n",
        "fig = plt.figure()\n"
      ],
      "execution_count": 4,
      "outputs": [
        {
          "output_type": "display_data",
          "data": {
            "image/png": "[encoded data removed]",
            "text/plain": [
              "<Figure size 432x288 with 4 Axes>"
            ]
          },
          "metadata": {
            "tags": [],
            "needs_background": "light"
          }
        },
        {
          "output_type": "display_data",
          "data": {
            "text/plain": [
              "<Figure size 432x288 with 0 Axes>"
            ]
          },
          "metadata": {
            "tags": []
          }
        }
      ]
    },
    {
      "cell_type": "code",
      "metadata": {
        "colab": {
          "base_uri": "https://localhost:8080/"
        },
        "id": "fVSH4HydIjpu",
        "outputId": "84c2de23-b4cc-44a6-bb38-0adc5d416063"
      },
      "source": [
        "fig.savefig('Anscombe's quartet.pdf')"
      ],
      "execution_count": null,
      "outputs": [
        {
          "output_type": "stream",
          "text": [
            "UsageError: Line magic function `%id` not found.\n"
          ],
          "name": "stderr"
        }
      ]
    }
  ]
}