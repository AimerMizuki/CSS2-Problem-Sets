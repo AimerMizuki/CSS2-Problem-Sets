{
  "nbformat": 4,
  "nbformat_minor": 0,
  "metadata": {
    "colab": {
      "name": "Liu_Siyuan_problem_set_5.ipynb",
      "provenance": [],
      "collapsed_sections": []
    },
    "kernelspec": {
      "name": "python3",
      "display_name": "Python 3"
    },
    "language_info": {
      "name": "python"
    }
  },
  "cells": [
    {
      "cell_type": "markdown",
      "metadata": {
        "id": "WGcw-smP-mmc"
      },
      "source": [
        "Part 1: import and upload the file"
      ]
    },
    {
      "cell_type": "code",
      "metadata": {
        "id": "2uF0RZi6BOQw",
        "colab": {
          "resources": {
            "http://localhost:8080/nbextensions/google.colab/files.js": {
              "data": "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",
              "ok": true,
              "headers": [
                [
                  "content-type",
                  "application/javascript"
                ]
              ],
              "status": 200,
              "status_text": ""
            }
          },
          "base_uri": "https://localhost:8080/",
          "height": 58
        },
        "outputId": "da859c26-413b-47d0-9dcb-d663183f5244"
      },
      "source": [
        "import pandas as pd\n",
        "from google.colab import files\n",
        "import numpy as np\n",
        "import matplotlib.pyplot as plt\n",
        "import seaborn as sns\n",
        "files.upload()\n"
      ],
      "execution_count": 171,
      "outputs": [
        {
          "output_type": "display_data",
          "data": {
            "text/html": [
              "\n",
              "     <input type=\"file\" id=\"files-f7e22e4e-371b-4a6a-92cf-ed9a4413866b\" name=\"files[]\" multiple disabled\n",
              "        style=\"border:none\" />\n",
              "     <output id=\"result-f7e22e4e-371b-4a6a-92cf-ed9a4413866b\">\n",
              "      Upload widget is only available when the cell has been executed in the\n",
              "      current browser session. Please rerun this cell to enable.\n",
              "      </output>\n",
              "      <script src=\"/nbextensions/google.colab/files.js\"></script> "
            ],
            "text/plain": [
              "<IPython.core.display.HTML object>"
            ]
          },
          "metadata": {
            "tags": []
          }
        },
        {
          "output_type": "execute_result",
          "data": {
            "text/plain": [
              "{}"
            ]
          },
          "metadata": {
            "tags": []
          },
          "execution_count": 171
        }
      ]
    },
    {
      "cell_type": "markdown",
      "metadata": {
        "id": "6KiCvV29BlwQ"
      },
      "source": [
        "Part 2: Load the data and make sure there are no extra index columns. Show the shape of the data AND the head of the data"
      ]
    },
    {
      "cell_type": "code",
      "metadata": {
        "colab": {
          "base_uri": "https://localhost:8080/"
        },
        "id": "LycvlVmNBmMw",
        "outputId": "99c5ae10-6f73-4fd7-e26d-405786f5785c"
      },
      "source": [
        "#inport data as excel and make it a dataframe\n",
        "df = pd.read_excel('messed_up_iris.xlsx',index_col=0)\n",
        "pd.DataFrame(df)\n",
        "\n",
        "#head\n",
        "print(df.head())\n",
        "\n",
        "#shape\n",
        "print(df.shape)\n",
        "print(df.info())\n"
      ],
      "execution_count": 172,
      "outputs": [
        {
          "output_type": "stream",
          "text": [
            "   sepal_length  sepal_width  petal_length  petal_width species   color  origin\n",
            "0           5.1          3.5           1.4          0.2  setosa   green     usa\n",
            "1           4.9          3.0           1.4          0.2  setosa  yellow     usa\n",
            "2           4.7          3.2           1.3          0.2  setosa   green     usa\n",
            "3           4.6          3.1           1.5          0.2  setosa  orange   japan\n",
            "4           5.0          3.6           1.4          0.2  setosa    blue  europe\n",
            "(150, 7)\n",
            "<class 'pandas.core.frame.DataFrame'>\n",
            "Int64Index: 150 entries, 0 to 149\n",
            "Data columns (total 7 columns):\n",
            " #   Column        Non-Null Count  Dtype  \n",
            "---  ------        --------------  -----  \n",
            " 0   sepal_length  137 non-null    float64\n",
            " 1   sepal_width   138 non-null    float64\n",
            " 2   petal_length  137 non-null    float64\n",
            " 3   petal_width   143 non-null    float64\n",
            " 4   species       145 non-null    object \n",
            " 5   color         73 non-null     object \n",
            " 6   origin        145 non-null    object \n",
            "dtypes: float64(4), object(3)\n",
            "memory usage: 9.4+ KB\n",
            "None\n"
          ],
          "name": "stdout"
        }
      ]
    },
    {
      "cell_type": "markdown",
      "metadata": {
        "id": "k6ZOyjTAD5D0"
      },
      "source": [
        "Part 3:Remove columns and rows where there are more than 50% of the data missing. Show the shape of the data after you have removed those columns/rows"
      ]
    },
    {
      "cell_type": "code",
      "metadata": {
        "id": "ivCTW7LkD5f6",
        "colab": {
          "base_uri": "https://localhost:8080/"
        },
        "outputId": "694074d9-dcea-4c75-ce69-f694198ff454"
      },
      "source": [
        "#when one column contains less than 75 not nas, drop it\n",
        "df = df.dropna(thresh = len(df)/2, axis = 1)\n",
        "\n",
        "# when rows contain less  than 4 not NAs(since 7 column in total, less than 4 would mean 4 or more NAs), drop it\n",
        "df = df.dropna(thresh = 4, axis = 0)\n",
        "\n",
        "#print shape\n",
        "print(df.shape)"
      ],
      "execution_count": 173,
      "outputs": [
        {
          "output_type": "stream",
          "text": [
            "(145, 6)\n"
          ],
          "name": "stdout"
        }
      ]
    },
    {
      "cell_type": "markdown",
      "metadata": {
        "id": "5Qqj5PH3nZK_"
      },
      "source": [
        "Part 4:Remove duplicate data"
      ]
    },
    {
      "cell_type": "code",
      "metadata": {
        "colab": {
          "base_uri": "https://localhost:8080/"
        },
        "id": "u7byxi2FnZQU",
        "outputId": "7cf869c5-6e26-452a-9641-53bf3f01f9f1"
      },
      "source": [
        "#we find 8 duplicates\n",
        "print(df[df.duplicated(keep=False)])\n",
        "\n",
        "#we keep one copy of each duplicates so we drop 6 of them\n",
        "df = df.drop_duplicates(ignore_index=True) \n",
        "\n",
        "#here's our new shape!\n",
        "print(df.shape)\n"
      ],
      "execution_count": 174,
      "outputs": [
        {
          "output_type": "stream",
          "text": [
            "    sepal_length  sepal_width  petal_length  petal_width species  origin\n",
            "21           5.1          3.7           1.5          0.4  setosa  europe\n",
            "34           5.1          3.7           1.5          0.4  setosa  europe\n",
            "37           4.9          3.6           1.4          0.1  setosa   japan\n",
            "42           5.1          3.7           1.5          0.4  setosa  europe\n",
            "59           4.9          3.6           1.4          0.1  setosa   japan\n",
            "71           4.9         36.0           1.4          0.1  setosa   japan\n",
            "82           4.9         36.0           1.4          0.1  setosa   japan\n",
            "87           4.9          3.6           1.4          0.1  setosa   japan\n",
            "(140, 6)\n"
          ],
          "name": "stdout"
        }
      ]
    },
    {
      "cell_type": "markdown",
      "metadata": {
        "id": "LAL-reOmoyoN"
      },
      "source": [
        "Part 5 : Dummy code the categorial variables\n",
        "\n",
        "\n",
        "\n",
        "```\n",
        "\n"
      ]
    },
    {
      "cell_type": "code",
      "metadata": {
        "colab": {
          "base_uri": "https://localhost:8080/",
          "height": 595
        },
        "id": "IyH_SUPzoy1f",
        "outputId": "37e266e3-a410-4574-a7a1-fa2541b8e9e9"
      },
      "source": [
        "print(df['species'].value_counts())\n",
        "print(df['origin'].value_counts())\n",
        "\n",
        "# we gonna change the typo to its orginal value\n",
        "#For species\n",
        "df['species'] = np.where(df['species'] == 'seotsa','setosa',df['species'])\n",
        "df['species'] = np.where(df['species'] == 'versicolr','versicolor',df['species'])\n",
        "df['species'] = np.where(df['species'] == 'west virginia','virginica',df['species'])\n",
        "df['species'] = np.where(df['species'] == 'virginia','virginica',df['species'])\n",
        "\n",
        "#For origin\n",
        "df['origin'] = np.where(df['origin'] == 'uas','usa',df['origin'])\n",
        "df['origin'] = np.where(df['origin'] == 'euarope','europe',df['origin'])\n",
        "\n",
        "#double chekc if we fixted type\n",
        "print(df['species'].value_counts())\n",
        "print(df['origin'].value_counts())\n",
        "\n",
        "# use pd get dumies to change them to dummies and store it in a new data frame\n",
        "species = pd.get_dummies(df['species'], drop_first = True)\n",
        "origin = pd.get_dummies(df['origin'], drop_first = True)\n",
        "\n",
        "\n",
        "#combine them with our original data frame\n",
        "df = pd.concat([df, species, origin],axis=1)\n",
        "df.head()"
      ],
      "execution_count": 175,
      "outputs": [
        {
          "output_type": "stream",
          "text": [
            "virginica        47\n",
            "setosa           46\n",
            "versicolor       42\n",
            "seotsa            2\n",
            "versicolr         1\n",
            "west virginia     1\n",
            "virginia          1\n",
            "Name: species, dtype: int64\n",
            "usa        49\n",
            "europe     46\n",
            "japan      42\n",
            "uas         2\n",
            "euarope     1\n",
            "Name: origin, dtype: int64\n",
            "virginica     49\n",
            "setosa        48\n",
            "versicolor    43\n",
            "Name: species, dtype: int64\n",
            "usa       51\n",
            "europe    47\n",
            "japan     42\n",
            "Name: origin, dtype: int64\n"
          ],
          "name": "stdout"
        },
        {
          "output_type": "execute_result",
          "data": {
            "text/html": [
              "<div>\n",
              "<style scoped>\n",
              "    .dataframe tbody tr th:only-of-type {\n",
              "        vertical-align: middle;\n",
              "    }\n",
              "\n",
              "    .dataframe tbody tr th {\n",
              "        vertical-align: top;\n",
              "    }\n",
              "\n",
              "    .dataframe thead th {\n",
              "        text-align: right;\n",
              "    }\n",
              "</style>\n",
              "<table border=\"1\" class=\"dataframe\">\n",
              "  <thead>\n",
              "    <tr style=\"text-align: right;\">\n",
              "      <th></th>\n",
              "      <th>sepal_length</th>\n",
              "      <th>sepal_width</th>\n",
              "      <th>petal_length</th>\n",
              "      <th>petal_width</th>\n",
              "      <th>species</th>\n",
              "      <th>origin</th>\n",
              "      <th>versicolor</th>\n",
              "      <th>virginica</th>\n",
              "      <th>japan</th>\n",
              "      <th>usa</th>\n",
              "    </tr>\n",
              "  </thead>\n",
              "  <tbody>\n",
              "    <tr>\n",
              "      <th>0</th>\n",
              "      <td>5.1</td>\n",
              "      <td>3.5</td>\n",
              "      <td>1.4</td>\n",
              "      <td>0.2</td>\n",
              "      <td>setosa</td>\n",
              "      <td>usa</td>\n",
              "      <td>0</td>\n",
              "      <td>0</td>\n",
              "      <td>0</td>\n",
              "      <td>1</td>\n",
              "    </tr>\n",
              "    <tr>\n",
              "      <th>1</th>\n",
              "      <td>4.9</td>\n",
              "      <td>3.0</td>\n",
              "      <td>1.4</td>\n",
              "      <td>0.2</td>\n",
              "      <td>setosa</td>\n",
              "      <td>usa</td>\n",
              "      <td>0</td>\n",
              "      <td>0</td>\n",
              "      <td>0</td>\n",
              "      <td>1</td>\n",
              "    </tr>\n",
              "    <tr>\n",
              "      <th>2</th>\n",
              "      <td>4.7</td>\n",
              "      <td>3.2</td>\n",
              "      <td>1.3</td>\n",
              "      <td>0.2</td>\n",
              "      <td>setosa</td>\n",
              "      <td>usa</td>\n",
              "      <td>0</td>\n",
              "      <td>0</td>\n",
              "      <td>0</td>\n",
              "      <td>1</td>\n",
              "    </tr>\n",
              "    <tr>\n",
              "      <th>3</th>\n",
              "      <td>4.6</td>\n",
              "      <td>3.1</td>\n",
              "      <td>1.5</td>\n",
              "      <td>0.2</td>\n",
              "      <td>setosa</td>\n",
              "      <td>japan</td>\n",
              "      <td>0</td>\n",
              "      <td>0</td>\n",
              "      <td>1</td>\n",
              "      <td>0</td>\n",
              "    </tr>\n",
              "    <tr>\n",
              "      <th>4</th>\n",
              "      <td>5.0</td>\n",
              "      <td>3.6</td>\n",
              "      <td>1.4</td>\n",
              "      <td>0.2</td>\n",
              "      <td>setosa</td>\n",
              "      <td>europe</td>\n",
              "      <td>0</td>\n",
              "      <td>0</td>\n",
              "      <td>0</td>\n",
              "      <td>0</td>\n",
              "    </tr>\n",
              "  </tbody>\n",
              "</table>\n",
              "</div>"
            ],
            "text/plain": [
              "   sepal_length  sepal_width  petal_length  ...  virginica japan usa\n",
              "0           5.1          3.5           1.4  ...          0     0   1\n",
              "1           4.9          3.0           1.4  ...          0     0   1\n",
              "2           4.7          3.2           1.3  ...          0     0   1\n",
              "3           4.6          3.1           1.5  ...          0     1   0\n",
              "4           5.0          3.6           1.4  ...          0     0   0\n",
              "\n",
              "[5 rows x 10 columns]"
            ]
          },
          "metadata": {
            "tags": []
          },
          "execution_count": 175
        }
      ]
    },
    {
      "cell_type": "markdown",
      "metadata": {
        "id": "uj78qhhnxi2c"
      },
      "source": [
        "Part 6: drop redundant columns"
      ]
    },
    {
      "cell_type": "code",
      "metadata": {
        "id": "It3jjU1Zxioc"
      },
      "source": [
        "#remove species and origin\n",
        "df = df.drop(columns=['species', 'origin'])\n"
      ],
      "execution_count": 176,
      "outputs": []
    },
    {
      "cell_type": "markdown",
      "metadata": {
        "id": "-8XFJni7x8E1"
      },
      "source": [
        "Part 7: Remove outliers above 2 standard deviations"
      ]
    },
    {
      "cell_type": "code",
      "metadata": {
        "colab": {
          "base_uri": "https://localhost:8080/"
        },
        "id": "Y2Rbepqlx8Oc",
        "outputId": "d5402a76-5753-406e-8601-928fe6dce571"
      },
      "source": [
        "# we remove all the values that is higher than upper limits(calculate by mean of that facotor + 2 standard deviation) and lower than lower limite(calculate by mean of that facoor - 2 standard deviation)\n",
        "# the outliers above 2 standard deviations was changed to NAs\n",
        "#for sepcal length\n",
        "df['sepal_length'] = df[(df['sepal_length'] < (df['sepal_length'].mean()+2*df['sepal_length'].std())) & (df['sepal_length'] > (df['sepal_length'].mean()-2*df['sepal_length'].std()))]\n",
        "\n",
        "#for sepal width\n",
        "df['sepal_width'] = df[(df['sepal_width'] < (df['sepal_width'].mean()+2*df['sepal_width'].std())) & (df['sepal_width'] > (df['sepal_width'].mean()-2*df['sepal_width'].std()))]\n",
        "\n",
        "#for petal length\n",
        "df['petal_length'] = df[(df['petal_length'] < (df['petal_length'].mean()+2*df['petal_length'].std())) & (df['petal_length'] > (df['petal_length'].mean()-2*df['petal_length'].std()))]\n",
        "\n",
        "#for petal width\n",
        "df['petal_width'] = df[(df['petal_width'] < (df['petal_width'].mean()+2*df['petal_width'].std())) & (df['petal_width'] > (df['petal_width'].mean()-2*df['petal_width'].std()))]\n",
        "\n",
        "df.info()"
      ],
      "execution_count": 177,
      "outputs": [
        {
          "output_type": "stream",
          "text": [
            "<class 'pandas.core.frame.DataFrame'>\n",
            "RangeIndex: 140 entries, 0 to 139\n",
            "Data columns (total 8 columns):\n",
            " #   Column        Non-Null Count  Dtype  \n",
            "---  ------        --------------  -----  \n",
            " 0   sepal_length  128 non-null    float64\n",
            " 1   sepal_width   120 non-null    float64\n",
            " 2   petal_length  119 non-null    float64\n",
            " 3   petal_width   124 non-null    float64\n",
            " 4   versicolor    140 non-null    uint8  \n",
            " 5   virginica     140 non-null    uint8  \n",
            " 6   japan         140 non-null    uint8  \n",
            " 7   usa           140 non-null    uint8  \n",
            "dtypes: float64(4), uint8(4)\n",
            "memory usage: 5.0 KB\n"
          ],
          "name": "stdout"
        }
      ]
    },
    {
      "cell_type": "markdown",
      "metadata": {
        "id": "rT0wqNn42rwq"
      },
      "source": [
        "Part 8; replace with the median value"
      ]
    },
    {
      "cell_type": "code",
      "metadata": {
        "id": "2Cu65Cut2ntL"
      },
      "source": [
        "\n",
        "#devided our df to three df with respect to three species\n",
        "df_versi = df[df['versicolor'] == 1]\n",
        "df_virginica = df[df['virginica'] == 1]\n",
        "df_setosa = df[(df['versicolor'] == 0) & (df['virginica'] == 0)]\n",
        "\n",
        "\n",
        "#fill in na with median value of each species\n",
        "df_versi = df_versi.fillna(df_versi.median())\n",
        "\n",
        "df_virginica = df_virginica.fillna(df_virginica.median())\n",
        "\n",
        "df_setosa= df_setosa.fillna(df_setosa.median())\n",
        "\n",
        "#combine the three df for three species together!\n",
        "df = pd.concat([df_versi, df_virginica, df_setosa], axis = 0, ignore_index=True)\n",
        "\n",
        "\n",
        "\n"
      ],
      "execution_count": 185,
      "outputs": []
    },
    {
      "cell_type": "markdown",
      "metadata": {
        "id": "9jZlj6jM91tI"
      },
      "source": [
        "Part 9: skip the bonus"
      ]
    },
    {
      "cell_type": "markdown",
      "metadata": {
        "id": "gvZa4e7a94Or"
      },
      "source": [
        "Part 10: Show off!"
      ]
    },
    {
      "cell_type": "code",
      "metadata": {
        "colab": {
          "base_uri": "https://localhost:8080/"
        },
        "id": "fiAgvhxq98zF",
        "outputId": "51c20622-b88e-4d4c-ded9-e94ed1a914bc"
      },
      "source": [
        "# print if each colmun contians NA\n",
        "print(df.isnull())\n",
        "\n",
        "#print all the rows that contian NAs(which is a empty dataframe because we remove all missing values!)\n",
        "is_Na = df.isnull()\n",
        "row_has_Na = is_Na.any(axis=1)\n",
        "rows_with_Na = df[row_has_Na]\n",
        "\n",
        "# Show off!!!!!!!!\n",
        "print(rows_with_Na)\n",
        "print(\"there are no missing data!\")\n",
        "print(df.describe())"
      ],
      "execution_count": 189,
      "outputs": [
        {
          "output_type": "stream",
          "text": [
            "     sepal_length  sepal_width  petal_length  ...  virginica  japan    usa\n",
            "0           False        False         False  ...      False  False  False\n",
            "1           False        False         False  ...      False  False  False\n",
            "2           False        False         False  ...      False  False  False\n",
            "3           False        False         False  ...      False  False  False\n",
            "4           False        False         False  ...      False  False  False\n",
            "..            ...          ...           ...  ...        ...    ...    ...\n",
            "135         False        False         False  ...      False  False  False\n",
            "136         False        False         False  ...      False  False  False\n",
            "137         False        False         False  ...      False  False  False\n",
            "138         False        False         False  ...      False  False  False\n",
            "139         False        False         False  ...      False  False  False\n",
            "\n",
            "[140 rows x 8 columns]\n",
            "Empty DataFrame\n",
            "Columns: [sepal_length, sepal_width, petal_length, petal_width, versicolor, virginica, japan, usa]\n",
            "Index: []\n",
            "there are no missing data!\n",
            "       sepal_length  sepal_width  ...       japan         usa\n",
            "count    140.000000   140.000000  ...  140.000000  140.000000\n",
            "mean       5.848571     5.838214  ...    0.300000    0.364286\n",
            "std        0.819939     0.811886  ...    0.459903    0.482957\n",
            "min        4.300000     4.300000  ...    0.000000    0.000000\n",
            "25%        5.100000     5.100000  ...    0.000000    0.000000\n",
            "50%        5.800000     5.800000  ...    0.000000    0.000000\n",
            "75%        6.425000     6.425000  ...    1.000000    1.000000\n",
            "max        7.900000     7.900000  ...    1.000000    1.000000\n",
            "\n",
            "[8 rows x 8 columns]\n"
          ],
          "name": "stdout"
        }
      ]
    },
    {
      "cell_type": "code",
      "metadata": {
        "id": "MEjKW5BB_uYT"
      },
      "source": [
        ""
      ],
      "execution_count": null,
      "outputs": []
    }
  ]
}