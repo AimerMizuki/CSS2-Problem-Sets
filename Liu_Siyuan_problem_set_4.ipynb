{
  "nbformat": 4,
  "nbformat_minor": 0,
  "metadata": {
    "colab": {
      "name": "Liu_Siyuan_problem_set_4.ipynb",
      "provenance": [],
      "collapsed_sections": []
    },
    "kernelspec": {
      "name": "python3",
      "display_name": "Python 3"
    },
    "language_info": {
      "name": "python"
    }
  },
  "cells": [
    {
      "cell_type": "markdown",
      "metadata": {
        "id": "LQJC6Ic6WrBO"
      },
      "source": [
        "Block 1\n",
        "\n",
        "Imports"
      ]
    },
    {
      "cell_type": "code",
      "metadata": {
        "id": "5wyj1ej16kOC"
      },
      "source": [
        "import pandas as pd\n",
        "import numpy as np\n",
        "from bs4 import BeautifulSoup \n",
        "import requests \n",
        "import re"
      ],
      "execution_count": 79,
      "outputs": []
    },
    {
      "cell_type": "markdown",
      "metadata": {
        "id": "5gO3qiP3Wxnv"
      },
      "source": [
        "Block 2\n",
        "\n",
        "Function Weathring_with_you, print out the city, states, tempreture and zip code."
      ]
    },
    {
      "cell_type": "code",
      "metadata": {
        "id": "gDOtO5Ph-p1Y"
      },
      "source": [
        "\n",
        "def weathering_with_you(zip):\n",
        "  #get all the digits from the string\n",
        "  digits = re.findall(r'\\d+', zip)\n",
        "\n",
        "  #if the zip we get contain number of 5 digits, and contains digits.\n",
        "  if digits != [] and len(digits[0]) == 5:\n",
        "\n",
        "    #fit the zipcode into the XXXXX url\n",
        "    new_url = url.replace('XXXXX',digits[0])\n",
        "\n",
        "    #use request to get the new url\n",
        "    response = requests.get(new_url)\n",
        "\n",
        "    # if this is a valid zipcode\n",
        "    if response.status_code == 200: \n",
        "      #make soup\n",
        "      soup = BeautifulSoup(response.content,'html.parser')\n",
        "\n",
        "      #fiind all class = card within the soup\n",
        "      weather = soup.find_all(class_=\"card\")\n",
        "\n",
        "      #find the one list that contain all information we need\n",
        "      list_1 = weather[1].text.split()\n",
        "\n",
        "      #return city, 4th and 5th word of the list\n",
        "      city = list_1[3]+\" \"+list_1[4]\n",
        "\n",
        "      #return state, the first two character of the 6th word\n",
        "      state = list_1[5][0:2]\n",
        "\n",
        "      #return tempreture, the last three character of the 6th word\n",
        "      tempreture = list_1[5][-9:-6]\n",
        "\n",
        "\n",
        "      #print everything!\n",
        "      print(\"City = \"+city+\"\\nState = \"+state+\"\\nTempreture = \"+tempreture+\"\\nZip Code = \"+state+digits[0])\n",
        "  else:  \n",
        "\n",
        "    #print error message\n",
        "    print(\"Please enter a valide zip code\")\n",
        "\n",
        "\n",
        "\n",
        "\n",
        "\n",
        "\n",
        "\n",
        "\n"
      ],
      "execution_count": 114,
      "outputs": []
    },
    {
      "cell_type": "markdown",
      "metadata": {
        "id": "OwDZo51BW_V5"
      },
      "source": [
        "Block 3\n",
        "\n",
        "Function Weathering_with_you example"
      ]
    },
    {
      "cell_type": "code",
      "metadata": {
        "colab": {
          "base_uri": "https://localhost:8080/"
        },
        "id": "jEVYtSYxKOsT",
        "outputId": "69af5ce1-2ad2-49c9-9f34-888377568228"
      },
      "source": [
        "#the url you gave us\n",
        "url = 'https://weather.com/weather/today/l/XXXXX:4:US'\n",
        "\n",
        "#zip code = 92328!\n",
        "zip = input()\n",
        "zip = 92328\n",
        "\n",
        "weathering_with_you(zip)"
      ],
      "execution_count": 117,
      "outputs": [
        {
          "output_type": "stream",
          "text": [
            "92328\n",
            "City = Death Valley,\n",
            "State = CA\n",
            "Tempreture = 78°\n",
            "Zip Code = CA92328\n"
          ],
          "name": "stdout"
        }
      ]
    }
  ]
}